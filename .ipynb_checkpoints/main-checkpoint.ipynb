{
 "cells": [
  {
   "cell_type": "code",
   "execution_count": 19,
   "id": "38f4887b-d7d1-4b0f-b335-ef8990638198",
   "metadata": {},
   "outputs": [
    {
     "name": "stdout",
     "output_type": "stream",
     "text": [
      "    ID  Duration          Date  Pulse  Maxpulse Calories\n",
      "0    0        60  '2020/12/01'    110       130     4091\n",
      "1    1        60  '2020/12/02'    117       145     4790\n",
      "2    2        60  '2020/12/03'    103       135     3400\n",
      "3    3        45  '2020/12/04'    109       175     2824\n",
      "4    4        45  '2020/12/05'    117       148     4060\n",
      "5    5        60  '2020/12/06'    102       127     3000\n",
      "6    6        60  '2020/12/07'    110       136     3740\n",
      "7    7       450  '2020/12/08'    104       134     2533\n",
      "8    8        30  '2020/12/09'    109       133     1951\n",
      "9    9        60  '2020/12/10'     98       124     2690\n",
      "10  10        60  '2020/12/11'    103       147     3293\n",
      "11  11        60  '2020/12/12'    100       120     2507\n",
      "12  12        60  '2020/12/12'    100       120     2507\n",
      "13  13        60  '2020/12/13'    106       128     3453\n",
      "14  14        60  '2020/12/14'    104       132     3793\n",
      "15  15        60  '2020/12/15'     98       123     2750\n",
      "16  16        60  '2020/12/16'     98       120     2152\n",
      "17  17        60  '2020/12/17'    100       120     3000\n",
      "18  18        45  '2020/12/18'     90       112      NaN\n",
      "19  19        60  '2020/12/19'    103       123     3230\n",
      "20  20        45  '2020/12/20'     97       125   2430 2\n",
      "21   1        60  '2020/12/21'    108       131     3642\n",
      "22  22        45           NaN    100       119     2820\n",
      "23  23        60  '2020/12/23'    130       101     3000\n",
      "24  24        45  '2020/12/24'    105       132     2460\n",
      "25  25        60  '2020/12/25'    102       126     3345\n",
      "26  26        60      20201226    100       120     2500\n",
      "27  27        60  '2020/12/27'     92       118     2410\n",
      "28  28        60  '2020/12/28'    103       132      NaN\n",
      "29  29        60  '2020/12/29'    100       132     2800\n",
      "30  30        60  '2020/12/30'    102       129     3803\n",
      "31  31        60  '2020/12/31'     92       115     2430\n"
     ]
    }
   ],
   "source": [
    "import pandas as pd\n",
    "\n",
    "data = ''\n",
    "file = pd.read_csv('./data.csv', sep=';', engine='python', encoding='utf-8')\n",
    "data = file\n",
    "\n",
    "print(data.to_string())"
   ]
  },
  {
   "cell_type": "code",
   "execution_count": 20,
   "id": "6a3b718d-1f34-444b-a10f-e17958fcb730",
   "metadata": {},
   "outputs": [
    {
     "name": "stdout",
     "output_type": "stream",
     "text": [
      "    ID  Duration          Date\n",
      "0    0        60  '2020/12/01'\n",
      "1    1        60  '2020/12/02'\n",
      "2    2        60  '2020/12/03'\n",
      "3    3        45  '2020/12/04'\n",
      "4    4        45  '2020/12/05'\n",
      "5    5        60  '2020/12/06'\n",
      "6    6        60  '2020/12/07'\n",
      "7    7       450  '2020/12/08'\n",
      "8    8        30  '2020/12/09'\n",
      "9    9        60  '2020/12/10'\n",
      "10  10        60  '2020/12/11'\n",
      "11  11        60  '2020/12/12'\n",
      "12  12        60  '2020/12/12'\n",
      "13  13        60  '2020/12/13'\n",
      "14  14        60  '2020/12/14'\n",
      "15  15        60  '2020/12/15'\n",
      "16  16        60  '2020/12/16'\n",
      "17  17        60  '2020/12/17'\n",
      "18  18        45  '2020/12/18'\n",
      "19  19        60  '2020/12/19'\n",
      "20  20        45  '2020/12/20'\n",
      "21   1        60  '2020/12/21'\n",
      "22  22        45           NaN\n",
      "23  23        60  '2020/12/23'\n",
      "24  24        45  '2020/12/24'\n",
      "25  25        60  '2020/12/25'\n",
      "26  26        60      20201226\n",
      "27  27        60  '2020/12/27'\n",
      "28  28        60  '2020/12/28'\n",
      "29  29        60  '2020/12/29'\n",
      "30  30        60  '2020/12/30'\n",
      "31  31        60  '2020/12/31'\n"
     ]
    }
   ],
   "source": [
    "columns = file[['ID', 'Duration', 'Date']]\n",
    "\n",
    "print(columns.to_string())"
   ]
  },
  {
   "cell_type": "code",
   "execution_count": 21,
   "id": "e6dc5e65-7e20-4129-911c-a4e4e4b5db12",
   "metadata": {},
   "outputs": [
    {
     "name": "stdout",
     "output_type": "stream",
     "text": [
      "    ID  Duration          Date  Pulse  Maxpulse Calories\n",
      "0    0        60  '2020/12/01'    110       130     4091\n",
      "1    1        60  '2020/12/02'    117       145     4790\n",
      "2    2        60  '2020/12/03'    103       135     3400\n",
      "3    3        45  '2020/12/04'    109       175     2824\n",
      "4    4        45  '2020/12/05'    117       148     4060\n",
      "5    5        60  '2020/12/06'    102       127     3000\n",
      "6    6        60  '2020/12/07'    110       136     3740\n",
      "7    7       450  '2020/12/08'    104       134     2533\n",
      "8    8        30  '2020/12/09'    109       133     1951\n",
      "9    9        60  '2020/12/10'     98       124     2690\n",
      "10  10        60  '2020/12/11'    103       147     3293\n",
      "11  11        60  '2020/12/12'    100       120     2507\n",
      "12  12        60  '2020/12/12'    100       120     2507\n",
      "13  13        60  '2020/12/13'    106       128     3453\n",
      "14  14        60  '2020/12/14'    104       132     3793\n",
      "15  15        60  '2020/12/15'     98       123     2750\n",
      "16  16        60  '2020/12/16'     98       120     2152\n",
      "17  17        60  '2020/12/17'    100       120     3000\n",
      "18  18        45  '2020/12/18'     90       112      NaN\n",
      "19  19        60  '2020/12/19'    103       123     3230\n",
      "20  20        45  '2020/12/20'     97       125   2430 2\n",
      "21   1        60  '2020/12/21'    108       131     3642\n",
      "22  22        45           NaN    100       119     2820\n",
      "23  23        60  '2020/12/23'    130       101     3000\n",
      "24  24        45  '2020/12/24'    105       132     2460\n",
      "25  25        60  '2020/12/25'    102       126     3345\n",
      "26  26        60      20201226    100       120     2500\n",
      "27  27        60  '2020/12/27'     92       118     2410\n",
      "28  28        60  '2020/12/28'    103       132      NaN\n",
      "29  29        60  '2020/12/29'    100       132     2800\n",
      "30  30        60  '2020/12/30'    102       129     3803\n",
      "31  31        60  '2020/12/31'     92       115     2430\n"
     ]
    }
   ],
   "source": [
    "pd.set_option('display.max_rows', 9999)\n",
    "\n",
    "print(data.to_string())"
   ]
  },
  {
   "cell_type": "code",
   "execution_count": 23,
   "id": "3a3a57e5-09be-47db-85c1-4f7cb3eee45c",
   "metadata": {},
   "outputs": [
    {
     "name": "stdout",
     "output_type": "stream",
     "text": [
      "   ID  Duration          Date  Pulse  Maxpulse Calories\n",
      "0   0        60  '2020/12/01'    110       130     4091\n",
      "1   1        60  '2020/12/02'    117       145     4790\n",
      "2   2        60  '2020/12/03'    103       135     3400\n",
      "3   3        45  '2020/12/04'    109       175     2824\n",
      "4   4        45  '2020/12/05'    117       148     4060\n",
      "5   5        60  '2020/12/06'    102       127     3000\n",
      "6   6        60  '2020/12/07'    110       136     3740\n",
      "7   7       450  '2020/12/08'    104       134     2533\n",
      "8   8        30  '2020/12/09'    109       133     1951\n",
      "9   9        60  '2020/12/10'     98       124     2690\n"
     ]
    }
   ],
   "source": [
    "print(file.head(10))"
   ]
  },
  {
   "cell_type": "code",
   "execution_count": 24,
   "id": "0f7428e8-a6fd-42e3-8c3b-cd3d67f3c01e",
   "metadata": {},
   "outputs": [
    {
     "name": "stdout",
     "output_type": "stream",
     "text": [
      "    ID  Duration          Date  Pulse  Maxpulse Calories\n",
      "22  22        45           NaN    100       119     2820\n",
      "23  23        60  '2020/12/23'    130       101     3000\n",
      "24  24        45  '2020/12/24'    105       132     2460\n",
      "25  25        60  '2020/12/25'    102       126     3345\n",
      "26  26        60      20201226    100       120     2500\n",
      "27  27        60  '2020/12/27'     92       118     2410\n",
      "28  28        60  '2020/12/28'    103       132      NaN\n",
      "29  29        60  '2020/12/29'    100       132     2800\n",
      "30  30        60  '2020/12/30'    102       129     3803\n",
      "31  31        60  '2020/12/31'     92       115     2430\n"
     ]
    }
   ],
   "source": [
    "print(file.tail(10))"
   ]
  },
  {
   "cell_type": "code",
   "execution_count": 29,
   "id": "bbb0c4ce-1f4a-4018-9a7d-eb8207cae404",
   "metadata": {},
   "outputs": [
    {
     "name": "stdout",
     "output_type": "stream",
     "text": [
      "<class 'pandas.core.frame.DataFrame'>\n",
      "RangeIndex: 32 entries, 0 to 31\n",
      "Data columns (total 6 columns):\n",
      " #   Column    Non-Null Count  Dtype \n",
      "---  ------    --------------  ----- \n",
      " 0   ID        32 non-null     int64 \n",
      " 1   Duration  32 non-null     int64 \n",
      " 2   Date      31 non-null     object\n",
      " 3   Pulse     32 non-null     int64 \n",
      " 4   Maxpulse  32 non-null     int64 \n",
      " 5   Calories  30 non-null     object\n",
      "dtypes: int64(4), object(2)\n",
      "memory usage: 1.6+ KB\n"
     ]
    }
   ],
   "source": [
    "## Informações gerais\n",
    "file.info()"
   ]
  },
  {
   "cell_type": "code",
   "execution_count": 30,
   "id": "df59da72-277f-4405-a88e-ca298893f5eb",
   "metadata": {},
   "outputs": [
    {
     "data": {
      "text/plain": [
       "32"
      ]
     },
     "execution_count": 30,
     "metadata": {},
     "output_type": "execute_result"
    }
   ],
   "source": [
    "## Total de linhas\n",
    "file.shape[0]"
   ]
  },
  {
   "cell_type": "code",
   "execution_count": 32,
   "id": "1750a101-b057-4c88-9fe1-1125af7596d5",
   "metadata": {},
   "outputs": [
    {
     "data": {
      "text/plain": [
       "6"
      ]
     },
     "execution_count": 32,
     "metadata": {},
     "output_type": "execute_result"
    }
   ],
   "source": [
    "## Total de colunas\n",
    "file.shape[1]"
   ]
  },
  {
   "cell_type": "code",
   "execution_count": 33,
   "id": "118d6bb6-98cc-4c69-895a-2d05a43baa92",
   "metadata": {},
   "outputs": [
    {
     "data": {
      "text/plain": [
       "ID          0\n",
       "Duration    0\n",
       "Date        1\n",
       "Pulse       0\n",
       "Maxpulse    0\n",
       "Calories    2\n",
       "dtype: int64"
      ]
     },
     "execution_count": 33,
     "metadata": {},
     "output_type": "execute_result"
    }
   ],
   "source": [
    "## Quantidade de dados nulos\n",
    "file.isnull().sum()"
   ]
  },
  {
   "cell_type": "code",
   "execution_count": 34,
   "id": "dfee704a-e3c7-481b-ae13-a2ec905c2094",
   "metadata": {},
   "outputs": [
    {
     "data": {
      "text/plain": [
       "Index        132\n",
       "ID           256\n",
       "Duration     256\n",
       "Date        1919\n",
       "Pulse        256\n",
       "Maxpulse     256\n",
       "Calories    1656\n",
       "dtype: int64"
      ]
     },
     "execution_count": 34,
     "metadata": {},
     "output_type": "execute_result"
    }
   ],
   "source": [
    "## Memória utilizada\n",
    "file.memory_usage(deep=True)"
   ]
  },
  {
   "cell_type": "code",
   "execution_count": null,
   "id": "05f3af09-1149-4f26-b628-a940da0483f8",
   "metadata": {},
   "outputs": [],
   "source": []
  }
 ],
 "metadata": {
  "kernelspec": {
   "display_name": "Python 3 (ipykernel)",
   "language": "python",
   "name": "python3"
  },
  "language_info": {
   "codemirror_mode": {
    "name": "ipython",
    "version": 3
   },
   "file_extension": ".py",
   "mimetype": "text/x-python",
   "name": "python",
   "nbconvert_exporter": "python",
   "pygments_lexer": "ipython3",
   "version": "3.13.3"
  }
 },
 "nbformat": 4,
 "nbformat_minor": 5
}
