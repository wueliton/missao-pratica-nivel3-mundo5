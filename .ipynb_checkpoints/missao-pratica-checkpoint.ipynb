{
 "cells": [
  {
   "cell_type": "code",
   "execution_count": 62,
   "id": "e39693da-cc36-41be-a7bc-c863829f9f99",
   "metadata": {},
   "outputs": [],
   "source": [
    "import pandas as pd\n",
    "\n",
    "data = ''\n",
    "file = pd.read_csv('./data.csv', sep=';', encoding='utf-8')"
   ]
  },
  {
   "cell_type": "code",
   "execution_count": 63,
   "id": "33f11394-9c30-4c5a-92dd-af77e84d5ce8",
   "metadata": {},
   "outputs": [
    {
     "name": "stdout",
     "output_type": "stream",
     "text": [
      "<class 'pandas.core.frame.DataFrame'>\n",
      "RangeIndex: 32 entries, 0 to 31\n",
      "Data columns (total 6 columns):\n",
      " #   Column    Non-Null Count  Dtype \n",
      "---  ------    --------------  ----- \n",
      " 0   ID        32 non-null     int64 \n",
      " 1   Duration  32 non-null     int64 \n",
      " 2   Date      31 non-null     object\n",
      " 3   Pulse     32 non-null     int64 \n",
      " 4   Maxpulse  32 non-null     int64 \n",
      " 5   Calories  30 non-null     object\n",
      "dtypes: int64(4), object(2)\n",
      "memory usage: 1.6+ KB\n",
      "None\n"
     ]
    }
   ],
   "source": [
    "print(file.info())"
   ]
  },
  {
   "cell_type": "code",
   "execution_count": 64,
   "id": "0f3f0b30-8602-401b-b1fd-3663338a64e3",
   "metadata": {},
   "outputs": [
    {
     "name": "stdout",
     "output_type": "stream",
     "text": [
      "   ID  Duration          Date  Pulse  Maxpulse Calories\n",
      "0   0        60  '2020/12/01'    110       130     4091\n",
      "1   1        60  '2020/12/02'    117       145     4790\n",
      "2   2        60  '2020/12/03'    103       135     3400\n",
      "3   3        45  '2020/12/04'    109       175     2824\n",
      "4   4        45  '2020/12/05'    117       148     4060\n",
      "5   5        60  '2020/12/06'    102       127     3000\n",
      "6   6        60  '2020/12/07'    110       136     3740\n",
      "7   7       450  '2020/12/08'    104       134     2533\n",
      "8   8        30  '2020/12/09'    109       133     1951\n",
      "9   9        60  '2020/12/10'     98       124     2690\n",
      "    ID  Duration          Date  Pulse  Maxpulse Calories\n",
      "22  22        45           NaN    100       119     2820\n",
      "23  23        60  '2020/12/23'    130       101     3000\n",
      "24  24        45  '2020/12/24'    105       132     2460\n",
      "25  25        60  '2020/12/25'    102       126     3345\n",
      "26  26        60      20201226    100       120     2500\n",
      "27  27        60  '2020/12/27'     92       118     2410\n",
      "28  28        60  '2020/12/28'    103       132      NaN\n",
      "29  29        60  '2020/12/29'    100       132     2800\n",
      "30  30        60  '2020/12/30'    102       129     3803\n",
      "31  31        60  '2020/12/31'     92       115     2430\n"
     ]
    }
   ],
   "source": [
    "print(file.head(10))\n",
    "print(file.tail(10))"
   ]
  },
  {
   "cell_type": "code",
   "execution_count": 65,
   "id": "97528ff1-5c2a-4096-9361-4fab798f06e7",
   "metadata": {},
   "outputs": [],
   "source": [
    "copy = file"
   ]
  },
  {
   "cell_type": "code",
   "execution_count": 66,
   "id": "0f850ca4-1db8-4efa-a9d6-c70bf856b026",
   "metadata": {},
   "outputs": [
    {
     "name": "stdout",
     "output_type": "stream",
     "text": [
      "    ID  Duration          Date  Pulse  Maxpulse Calories\n",
      "0    0        60  '2020/12/01'    110       130     4091\n",
      "1    1        60  '2020/12/02'    117       145     4790\n",
      "2    2        60  '2020/12/03'    103       135     3400\n",
      "3    3        45  '2020/12/04'    109       175     2824\n",
      "4    4        45  '2020/12/05'    117       148     4060\n",
      "5    5        60  '2020/12/06'    102       127     3000\n",
      "6    6        60  '2020/12/07'    110       136     3740\n",
      "7    7       450  '2020/12/08'    104       134     2533\n",
      "8    8        30  '2020/12/09'    109       133     1951\n",
      "9    9        60  '2020/12/10'     98       124     2690\n",
      "10  10        60  '2020/12/11'    103       147     3293\n",
      "11  11        60  '2020/12/12'    100       120     2507\n",
      "12  12        60  '2020/12/12'    100       120     2507\n",
      "13  13        60  '2020/12/13'    106       128     3453\n",
      "14  14        60  '2020/12/14'    104       132     3793\n",
      "15  15        60  '2020/12/15'     98       123     2750\n",
      "16  16        60  '2020/12/16'     98       120     2152\n",
      "17  17        60  '2020/12/17'    100       120     3000\n",
      "18  18        45  '2020/12/18'     90       112        0\n",
      "19  19        60  '2020/12/19'    103       123     3230\n",
      "20  20        45  '2020/12/20'     97       125   2430 2\n",
      "21   1        60  '2020/12/21'    108       131     3642\n",
      "22  22        45           NaN    100       119     2820\n",
      "23  23        60  '2020/12/23'    130       101     3000\n",
      "24  24        45  '2020/12/24'    105       132     2460\n",
      "25  25        60  '2020/12/25'    102       126     3345\n",
      "26  26        60      20201226    100       120     2500\n",
      "27  27        60  '2020/12/27'     92       118     2410\n",
      "28  28        60  '2020/12/28'    103       132        0\n",
      "29  29        60  '2020/12/29'    100       132     2800\n",
      "30  30        60  '2020/12/30'    102       129     3803\n",
      "31  31        60  '2020/12/31'     92       115     2430\n"
     ]
    }
   ],
   "source": [
    "copy['Calories'] = copy['Calories'].fillna(0)\n",
    "print(copy)"
   ]
  },
  {
   "cell_type": "code",
   "execution_count": 67,
   "id": "31e81e6a-1eee-4bd9-a24f-159641d6b07d",
   "metadata": {},
   "outputs": [
    {
     "name": "stdout",
     "output_type": "stream",
     "text": [
      "    ID  Duration          Date  Pulse  Maxpulse Calories\n",
      "0    0        60  '2020/12/01'    110       130     4091\n",
      "1    1        60  '2020/12/02'    117       145     4790\n",
      "2    2        60  '2020/12/03'    103       135     3400\n",
      "3    3        45  '2020/12/04'    109       175     2824\n",
      "4    4        45  '2020/12/05'    117       148     4060\n",
      "5    5        60  '2020/12/06'    102       127     3000\n",
      "6    6        60  '2020/12/07'    110       136     3740\n",
      "7    7       450  '2020/12/08'    104       134     2533\n",
      "8    8        30  '2020/12/09'    109       133     1951\n",
      "9    9        60  '2020/12/10'     98       124     2690\n",
      "10  10        60  '2020/12/11'    103       147     3293\n",
      "11  11        60  '2020/12/12'    100       120     2507\n",
      "12  12        60  '2020/12/12'    100       120     2507\n",
      "13  13        60  '2020/12/13'    106       128     3453\n",
      "14  14        60  '2020/12/14'    104       132     3793\n",
      "15  15        60  '2020/12/15'     98       123     2750\n",
      "16  16        60  '2020/12/16'     98       120     2152\n",
      "17  17        60  '2020/12/17'    100       120     3000\n",
      "18  18        45  '2020/12/18'     90       112        0\n",
      "19  19        60  '2020/12/19'    103       123     3230\n",
      "20  20        45  '2020/12/20'     97       125   2430 2\n",
      "21   1        60  '2020/12/21'    108       131     3642\n",
      "22  22        45    1900/01/01    100       119     2820\n",
      "23  23        60  '2020/12/23'    130       101     3000\n",
      "24  24        45  '2020/12/24'    105       132     2460\n",
      "25  25        60  '2020/12/25'    102       126     3345\n",
      "26  26        60      20201226    100       120     2500\n",
      "27  27        60  '2020/12/27'     92       118     2410\n",
      "28  28        60  '2020/12/28'    103       132        0\n",
      "29  29        60  '2020/12/29'    100       132     2800\n",
      "30  30        60  '2020/12/30'    102       129     3803\n",
      "31  31        60  '2020/12/31'     92       115     2430\n"
     ]
    },
    {
     "ename": "ValueError",
     "evalue": "time data \"1900/01/01\" doesn't match format \"'%Y/%m/%d'\", at position 22. You might want to try:\n    - passing `format` if your strings have a consistent format;\n    - passing `format='ISO8601'` if your strings are all ISO8601 but not necessarily in exactly the same format;\n    - passing `format='mixed'`, and the format will be inferred for each element individually. You might want to use `dayfirst` alongside this.",
     "output_type": "error",
     "traceback": [
      "\u001b[31m---------------------------------------------------------------------------\u001b[39m",
      "\u001b[31mValueError\u001b[39m                                Traceback (most recent call last)",
      "\u001b[36mCell\u001b[39m\u001b[36m \u001b[39m\u001b[32mIn[67]\u001b[39m\u001b[32m, line 3\u001b[39m\n\u001b[32m      1\u001b[39m copy[\u001b[33m'\u001b[39m\u001b[33mDate\u001b[39m\u001b[33m'\u001b[39m] = copy[\u001b[33m'\u001b[39m\u001b[33mDate\u001b[39m\u001b[33m'\u001b[39m].fillna(\u001b[33m\"\u001b[39m\u001b[33m1900/01/01\u001b[39m\u001b[33m\"\u001b[39m)\n\u001b[32m      2\u001b[39m \u001b[38;5;28mprint\u001b[39m(copy)\n\u001b[32m----> \u001b[39m\u001b[32m3\u001b[39m copy[\u001b[33m'\u001b[39m\u001b[33mDate\u001b[39m\u001b[33m'\u001b[39m] = \u001b[43mpd\u001b[49m\u001b[43m.\u001b[49m\u001b[43mto_datetime\u001b[49m\u001b[43m(\u001b[49m\u001b[43mcopy\u001b[49m\u001b[43m[\u001b[49m\u001b[33;43m'\u001b[39;49m\u001b[33;43mDate\u001b[39;49m\u001b[33;43m'\u001b[39;49m\u001b[43m]\u001b[49m\u001b[43m)\u001b[49m\n",
      "\u001b[36mFile \u001b[39m\u001b[32m~/Documents/python/missao-pratica-nivel3-mundo5/venv/lib/python3.13/site-packages/pandas/core/tools/datetimes.py:1067\u001b[39m, in \u001b[36mto_datetime\u001b[39m\u001b[34m(arg, errors, dayfirst, yearfirst, utc, format, exact, unit, infer_datetime_format, origin, cache)\u001b[39m\n\u001b[32m   1065\u001b[39m         result = arg.map(cache_array)\n\u001b[32m   1066\u001b[39m     \u001b[38;5;28;01melse\u001b[39;00m:\n\u001b[32m-> \u001b[39m\u001b[32m1067\u001b[39m         values = \u001b[43mconvert_listlike\u001b[49m\u001b[43m(\u001b[49m\u001b[43marg\u001b[49m\u001b[43m.\u001b[49m\u001b[43m_values\u001b[49m\u001b[43m,\u001b[49m\u001b[43m \u001b[49m\u001b[38;5;28;43mformat\u001b[39;49m\u001b[43m)\u001b[49m\n\u001b[32m   1068\u001b[39m         result = arg._constructor(values, index=arg.index, name=arg.name)\n\u001b[32m   1069\u001b[39m \u001b[38;5;28;01melif\u001b[39;00m \u001b[38;5;28misinstance\u001b[39m(arg, (ABCDataFrame, abc.MutableMapping)):\n",
      "\u001b[36mFile \u001b[39m\u001b[32m~/Documents/python/missao-pratica-nivel3-mundo5/venv/lib/python3.13/site-packages/pandas/core/tools/datetimes.py:433\u001b[39m, in \u001b[36m_convert_listlike_datetimes\u001b[39m\u001b[34m(arg, format, name, utc, unit, errors, dayfirst, yearfirst, exact)\u001b[39m\n\u001b[32m    431\u001b[39m \u001b[38;5;66;03m# `format` could be inferred, or user didn't ask for mixed-format parsing.\u001b[39;00m\n\u001b[32m    432\u001b[39m \u001b[38;5;28;01mif\u001b[39;00m \u001b[38;5;28mformat\u001b[39m \u001b[38;5;129;01mis\u001b[39;00m \u001b[38;5;129;01mnot\u001b[39;00m \u001b[38;5;28;01mNone\u001b[39;00m \u001b[38;5;129;01mand\u001b[39;00m \u001b[38;5;28mformat\u001b[39m != \u001b[33m\"\u001b[39m\u001b[33mmixed\u001b[39m\u001b[33m\"\u001b[39m:\n\u001b[32m--> \u001b[39m\u001b[32m433\u001b[39m     \u001b[38;5;28;01mreturn\u001b[39;00m \u001b[43m_array_strptime_with_fallback\u001b[49m\u001b[43m(\u001b[49m\u001b[43marg\u001b[49m\u001b[43m,\u001b[49m\u001b[43m \u001b[49m\u001b[43mname\u001b[49m\u001b[43m,\u001b[49m\u001b[43m \u001b[49m\u001b[43mutc\u001b[49m\u001b[43m,\u001b[49m\u001b[43m \u001b[49m\u001b[38;5;28;43mformat\u001b[39;49m\u001b[43m,\u001b[49m\u001b[43m \u001b[49m\u001b[43mexact\u001b[49m\u001b[43m,\u001b[49m\u001b[43m \u001b[49m\u001b[43merrors\u001b[49m\u001b[43m)\u001b[49m\n\u001b[32m    435\u001b[39m result, tz_parsed = objects_to_datetime64(\n\u001b[32m    436\u001b[39m     arg,\n\u001b[32m    437\u001b[39m     dayfirst=dayfirst,\n\u001b[32m   (...)\u001b[39m\u001b[32m    441\u001b[39m     allow_object=\u001b[38;5;28;01mTrue\u001b[39;00m,\n\u001b[32m    442\u001b[39m )\n\u001b[32m    444\u001b[39m \u001b[38;5;28;01mif\u001b[39;00m tz_parsed \u001b[38;5;129;01mis\u001b[39;00m \u001b[38;5;129;01mnot\u001b[39;00m \u001b[38;5;28;01mNone\u001b[39;00m:\n\u001b[32m    445\u001b[39m     \u001b[38;5;66;03m# We can take a shortcut since the datetime64 numpy array\u001b[39;00m\n\u001b[32m    446\u001b[39m     \u001b[38;5;66;03m# is in UTC\u001b[39;00m\n",
      "\u001b[36mFile \u001b[39m\u001b[32m~/Documents/python/missao-pratica-nivel3-mundo5/venv/lib/python3.13/site-packages/pandas/core/tools/datetimes.py:467\u001b[39m, in \u001b[36m_array_strptime_with_fallback\u001b[39m\u001b[34m(arg, name, utc, fmt, exact, errors)\u001b[39m\n\u001b[32m    456\u001b[39m \u001b[38;5;28;01mdef\u001b[39;00m\u001b[38;5;250m \u001b[39m\u001b[34m_array_strptime_with_fallback\u001b[39m(\n\u001b[32m    457\u001b[39m     arg,\n\u001b[32m    458\u001b[39m     name,\n\u001b[32m   (...)\u001b[39m\u001b[32m    462\u001b[39m     errors: \u001b[38;5;28mstr\u001b[39m,\n\u001b[32m    463\u001b[39m ) -> Index:\n\u001b[32m    464\u001b[39m \u001b[38;5;250m    \u001b[39m\u001b[33;03m\"\"\"\u001b[39;00m\n\u001b[32m    465\u001b[39m \u001b[33;03m    Call array_strptime, with fallback behavior depending on 'errors'.\u001b[39;00m\n\u001b[32m    466\u001b[39m \u001b[33;03m    \"\"\"\u001b[39;00m\n\u001b[32m--> \u001b[39m\u001b[32m467\u001b[39m     result, tz_out = \u001b[43marray_strptime\u001b[49m\u001b[43m(\u001b[49m\u001b[43marg\u001b[49m\u001b[43m,\u001b[49m\u001b[43m \u001b[49m\u001b[43mfmt\u001b[49m\u001b[43m,\u001b[49m\u001b[43m \u001b[49m\u001b[43mexact\u001b[49m\u001b[43m=\u001b[49m\u001b[43mexact\u001b[49m\u001b[43m,\u001b[49m\u001b[43m \u001b[49m\u001b[43merrors\u001b[49m\u001b[43m=\u001b[49m\u001b[43merrors\u001b[49m\u001b[43m,\u001b[49m\u001b[43m \u001b[49m\u001b[43mutc\u001b[49m\u001b[43m=\u001b[49m\u001b[43mutc\u001b[49m\u001b[43m)\u001b[49m\n\u001b[32m    468\u001b[39m     \u001b[38;5;28;01mif\u001b[39;00m tz_out \u001b[38;5;129;01mis\u001b[39;00m \u001b[38;5;129;01mnot\u001b[39;00m \u001b[38;5;28;01mNone\u001b[39;00m:\n\u001b[32m    469\u001b[39m         unit = np.datetime_data(result.dtype)[\u001b[32m0\u001b[39m]\n",
      "\u001b[36mFile \u001b[39m\u001b[32mstrptime.pyx:501\u001b[39m, in \u001b[36mpandas._libs.tslibs.strptime.array_strptime\u001b[39m\u001b[34m()\u001b[39m\n",
      "\u001b[36mFile \u001b[39m\u001b[32mstrptime.pyx:451\u001b[39m, in \u001b[36mpandas._libs.tslibs.strptime.array_strptime\u001b[39m\u001b[34m()\u001b[39m\n",
      "\u001b[36mFile \u001b[39m\u001b[32mstrptime.pyx:583\u001b[39m, in \u001b[36mpandas._libs.tslibs.strptime._parse_with_format\u001b[39m\u001b[34m()\u001b[39m\n",
      "\u001b[31mValueError\u001b[39m: time data \"1900/01/01\" doesn't match format \"'%Y/%m/%d'\", at position 22. You might want to try:\n    - passing `format` if your strings have a consistent format;\n    - passing `format='ISO8601'` if your strings are all ISO8601 but not necessarily in exactly the same format;\n    - passing `format='mixed'`, and the format will be inferred for each element individually. You might want to use `dayfirst` alongside this."
     ]
    }
   ],
   "source": [
    "copy['Date'] = copy['Date'].fillna(\"1900/01/01\")\n",
    "print(copy)\n",
    "copy['Date'] = pd.to_datetime(copy['Date'])"
   ]
  },
  {
   "cell_type": "code",
   "execution_count": 68,
   "id": "f30a005b-7e53-4454-a7e8-64d2870a3771",
   "metadata": {},
   "outputs": [
    {
     "ename": "ValueError",
     "evalue": "time data \"20201226\" doesn't match format \"'%Y/%m/%d'\", at position 26. You might want to try:\n    - passing `format` if your strings have a consistent format;\n    - passing `format='ISO8601'` if your strings are all ISO8601 but not necessarily in exactly the same format;\n    - passing `format='mixed'`, and the format will be inferred for each element individually. You might want to use `dayfirst` alongside this.",
     "output_type": "error",
     "traceback": [
      "\u001b[31m---------------------------------------------------------------------------\u001b[39m",
      "\u001b[31mValueError\u001b[39m                                Traceback (most recent call last)",
      "\u001b[36mCell\u001b[39m\u001b[36m \u001b[39m\u001b[32mIn[68]\u001b[39m\u001b[32m, line 2\u001b[39m\n\u001b[32m      1\u001b[39m copy[\u001b[33m'\u001b[39m\u001b[33mDate\u001b[39m\u001b[33m'\u001b[39m] = copy[\u001b[33m'\u001b[39m\u001b[33mDate\u001b[39m\u001b[33m'\u001b[39m].replace(\u001b[33m'\u001b[39m\u001b[33m1900/01/01\u001b[39m\u001b[33m'\u001b[39m, \u001b[33m'\u001b[39m\u001b[33mNaN\u001b[39m\u001b[33m'\u001b[39m)\n\u001b[32m----> \u001b[39m\u001b[32m2\u001b[39m copy[\u001b[33m'\u001b[39m\u001b[33mDate\u001b[39m\u001b[33m'\u001b[39m] = \u001b[43mpd\u001b[49m\u001b[43m.\u001b[49m\u001b[43mto_datetime\u001b[49m\u001b[43m(\u001b[49m\u001b[43mcopy\u001b[49m\u001b[43m[\u001b[49m\u001b[33;43m'\u001b[39;49m\u001b[33;43mDate\u001b[39;49m\u001b[33;43m'\u001b[39;49m\u001b[43m]\u001b[49m\u001b[43m)\u001b[49m\n\u001b[32m      3\u001b[39m \u001b[38;5;28mprint\u001b[39m(copy)\n",
      "\u001b[36mFile \u001b[39m\u001b[32m~/Documents/python/missao-pratica-nivel3-mundo5/venv/lib/python3.13/site-packages/pandas/core/tools/datetimes.py:1067\u001b[39m, in \u001b[36mto_datetime\u001b[39m\u001b[34m(arg, errors, dayfirst, yearfirst, utc, format, exact, unit, infer_datetime_format, origin, cache)\u001b[39m\n\u001b[32m   1065\u001b[39m         result = arg.map(cache_array)\n\u001b[32m   1066\u001b[39m     \u001b[38;5;28;01melse\u001b[39;00m:\n\u001b[32m-> \u001b[39m\u001b[32m1067\u001b[39m         values = \u001b[43mconvert_listlike\u001b[49m\u001b[43m(\u001b[49m\u001b[43marg\u001b[49m\u001b[43m.\u001b[49m\u001b[43m_values\u001b[49m\u001b[43m,\u001b[49m\u001b[43m \u001b[49m\u001b[38;5;28;43mformat\u001b[39;49m\u001b[43m)\u001b[49m\n\u001b[32m   1068\u001b[39m         result = arg._constructor(values, index=arg.index, name=arg.name)\n\u001b[32m   1069\u001b[39m \u001b[38;5;28;01melif\u001b[39;00m \u001b[38;5;28misinstance\u001b[39m(arg, (ABCDataFrame, abc.MutableMapping)):\n",
      "\u001b[36mFile \u001b[39m\u001b[32m~/Documents/python/missao-pratica-nivel3-mundo5/venv/lib/python3.13/site-packages/pandas/core/tools/datetimes.py:433\u001b[39m, in \u001b[36m_convert_listlike_datetimes\u001b[39m\u001b[34m(arg, format, name, utc, unit, errors, dayfirst, yearfirst, exact)\u001b[39m\n\u001b[32m    431\u001b[39m \u001b[38;5;66;03m# `format` could be inferred, or user didn't ask for mixed-format parsing.\u001b[39;00m\n\u001b[32m    432\u001b[39m \u001b[38;5;28;01mif\u001b[39;00m \u001b[38;5;28mformat\u001b[39m \u001b[38;5;129;01mis\u001b[39;00m \u001b[38;5;129;01mnot\u001b[39;00m \u001b[38;5;28;01mNone\u001b[39;00m \u001b[38;5;129;01mand\u001b[39;00m \u001b[38;5;28mformat\u001b[39m != \u001b[33m\"\u001b[39m\u001b[33mmixed\u001b[39m\u001b[33m\"\u001b[39m:\n\u001b[32m--> \u001b[39m\u001b[32m433\u001b[39m     \u001b[38;5;28;01mreturn\u001b[39;00m \u001b[43m_array_strptime_with_fallback\u001b[49m\u001b[43m(\u001b[49m\u001b[43marg\u001b[49m\u001b[43m,\u001b[49m\u001b[43m \u001b[49m\u001b[43mname\u001b[49m\u001b[43m,\u001b[49m\u001b[43m \u001b[49m\u001b[43mutc\u001b[49m\u001b[43m,\u001b[49m\u001b[43m \u001b[49m\u001b[38;5;28;43mformat\u001b[39;49m\u001b[43m,\u001b[49m\u001b[43m \u001b[49m\u001b[43mexact\u001b[49m\u001b[43m,\u001b[49m\u001b[43m \u001b[49m\u001b[43merrors\u001b[49m\u001b[43m)\u001b[49m\n\u001b[32m    435\u001b[39m result, tz_parsed = objects_to_datetime64(\n\u001b[32m    436\u001b[39m     arg,\n\u001b[32m    437\u001b[39m     dayfirst=dayfirst,\n\u001b[32m   (...)\u001b[39m\u001b[32m    441\u001b[39m     allow_object=\u001b[38;5;28;01mTrue\u001b[39;00m,\n\u001b[32m    442\u001b[39m )\n\u001b[32m    444\u001b[39m \u001b[38;5;28;01mif\u001b[39;00m tz_parsed \u001b[38;5;129;01mis\u001b[39;00m \u001b[38;5;129;01mnot\u001b[39;00m \u001b[38;5;28;01mNone\u001b[39;00m:\n\u001b[32m    445\u001b[39m     \u001b[38;5;66;03m# We can take a shortcut since the datetime64 numpy array\u001b[39;00m\n\u001b[32m    446\u001b[39m     \u001b[38;5;66;03m# is in UTC\u001b[39;00m\n",
      "\u001b[36mFile \u001b[39m\u001b[32m~/Documents/python/missao-pratica-nivel3-mundo5/venv/lib/python3.13/site-packages/pandas/core/tools/datetimes.py:467\u001b[39m, in \u001b[36m_array_strptime_with_fallback\u001b[39m\u001b[34m(arg, name, utc, fmt, exact, errors)\u001b[39m\n\u001b[32m    456\u001b[39m \u001b[38;5;28;01mdef\u001b[39;00m\u001b[38;5;250m \u001b[39m\u001b[34m_array_strptime_with_fallback\u001b[39m(\n\u001b[32m    457\u001b[39m     arg,\n\u001b[32m    458\u001b[39m     name,\n\u001b[32m   (...)\u001b[39m\u001b[32m    462\u001b[39m     errors: \u001b[38;5;28mstr\u001b[39m,\n\u001b[32m    463\u001b[39m ) -> Index:\n\u001b[32m    464\u001b[39m \u001b[38;5;250m    \u001b[39m\u001b[33;03m\"\"\"\u001b[39;00m\n\u001b[32m    465\u001b[39m \u001b[33;03m    Call array_strptime, with fallback behavior depending on 'errors'.\u001b[39;00m\n\u001b[32m    466\u001b[39m \u001b[33;03m    \"\"\"\u001b[39;00m\n\u001b[32m--> \u001b[39m\u001b[32m467\u001b[39m     result, tz_out = \u001b[43marray_strptime\u001b[49m\u001b[43m(\u001b[49m\u001b[43marg\u001b[49m\u001b[43m,\u001b[49m\u001b[43m \u001b[49m\u001b[43mfmt\u001b[49m\u001b[43m,\u001b[49m\u001b[43m \u001b[49m\u001b[43mexact\u001b[49m\u001b[43m=\u001b[49m\u001b[43mexact\u001b[49m\u001b[43m,\u001b[49m\u001b[43m \u001b[49m\u001b[43merrors\u001b[49m\u001b[43m=\u001b[49m\u001b[43merrors\u001b[49m\u001b[43m,\u001b[49m\u001b[43m \u001b[49m\u001b[43mutc\u001b[49m\u001b[43m=\u001b[49m\u001b[43mutc\u001b[49m\u001b[43m)\u001b[49m\n\u001b[32m    468\u001b[39m     \u001b[38;5;28;01mif\u001b[39;00m tz_out \u001b[38;5;129;01mis\u001b[39;00m \u001b[38;5;129;01mnot\u001b[39;00m \u001b[38;5;28;01mNone\u001b[39;00m:\n\u001b[32m    469\u001b[39m         unit = np.datetime_data(result.dtype)[\u001b[32m0\u001b[39m]\n",
      "\u001b[36mFile \u001b[39m\u001b[32mstrptime.pyx:501\u001b[39m, in \u001b[36mpandas._libs.tslibs.strptime.array_strptime\u001b[39m\u001b[34m()\u001b[39m\n",
      "\u001b[36mFile \u001b[39m\u001b[32mstrptime.pyx:451\u001b[39m, in \u001b[36mpandas._libs.tslibs.strptime.array_strptime\u001b[39m\u001b[34m()\u001b[39m\n",
      "\u001b[36mFile \u001b[39m\u001b[32mstrptime.pyx:583\u001b[39m, in \u001b[36mpandas._libs.tslibs.strptime._parse_with_format\u001b[39m\u001b[34m()\u001b[39m\n",
      "\u001b[31mValueError\u001b[39m: time data \"20201226\" doesn't match format \"'%Y/%m/%d'\", at position 26. You might want to try:\n    - passing `format` if your strings have a consistent format;\n    - passing `format='ISO8601'` if your strings are all ISO8601 but not necessarily in exactly the same format;\n    - passing `format='mixed'`, and the format will be inferred for each element individually. You might want to use `dayfirst` alongside this."
     ]
    }
   ],
   "source": [
    "copy['Date'] = copy['Date'].replace('1900/01/01', 'NaN')\n",
    "copy['Date'] = pd.to_datetime(copy['Date'])\n",
    "print(copy)"
   ]
  },
  {
   "cell_type": "code",
   "execution_count": 69,
   "id": "53476517-8a42-4368-86af-0c319f95b2e7",
   "metadata": {},
   "outputs": [
    {
     "name": "stdout",
     "output_type": "stream",
     "text": [
      "    ID  Duration                 Date  Pulse  Maxpulse Calories\n",
      "0    0        60         '2020/12/01'    110       130     4091\n",
      "1    1        60         '2020/12/02'    117       145     4790\n",
      "2    2        60         '2020/12/03'    103       135     3400\n",
      "3    3        45         '2020/12/04'    109       175     2824\n",
      "4    4        45         '2020/12/05'    117       148     4060\n",
      "5    5        60         '2020/12/06'    102       127     3000\n",
      "6    6        60         '2020/12/07'    110       136     3740\n",
      "7    7       450         '2020/12/08'    104       134     2533\n",
      "8    8        30         '2020/12/09'    109       133     1951\n",
      "9    9        60         '2020/12/10'     98       124     2690\n",
      "10  10        60         '2020/12/11'    103       147     3293\n",
      "11  11        60         '2020/12/12'    100       120     2507\n",
      "12  12        60         '2020/12/12'    100       120     2507\n",
      "13  13        60         '2020/12/13'    106       128     3453\n",
      "14  14        60         '2020/12/14'    104       132     3793\n",
      "15  15        60         '2020/12/15'     98       123     2750\n",
      "16  16        60         '2020/12/16'     98       120     2152\n",
      "17  17        60         '2020/12/17'    100       120     3000\n",
      "18  18        45         '2020/12/18'     90       112        0\n",
      "19  19        60         '2020/12/19'    103       123     3230\n",
      "20  20        45         '2020/12/20'     97       125   2430 2\n",
      "21   1        60         '2020/12/21'    108       131     3642\n",
      "22  22        45                  NaN    100       119     2820\n",
      "23  23        60         '2020/12/23'    130       101     3000\n",
      "24  24        45         '2020/12/24'    105       132     2460\n",
      "25  25        60         '2020/12/25'    102       126     3345\n",
      "26  26        60  2020-12-26 00:00:00    100       120     2500\n",
      "27  27        60         '2020/12/27'     92       118     2410\n",
      "28  28        60         '2020/12/28'    103       132        0\n",
      "29  29        60         '2020/12/29'    100       132     2800\n",
      "30  30        60         '2020/12/30'    102       129     3803\n",
      "31  31        60         '2020/12/31'     92       115     2430\n"
     ]
    }
   ],
   "source": [
    "copy['Date'] = copy['Date'].replace('20201226', pd.to_datetime('2020/12/26', format='%Y/%m/%d'))\n",
    "print(copy)"
   ]
  },
  {
   "cell_type": "code",
   "execution_count": null,
   "id": "a3bbe6c5-4ecc-4917-a233-8e5808252195",
   "metadata": {},
   "outputs": [],
   "source": []
  }
 ],
 "metadata": {
  "kernelspec": {
   "display_name": "Python 3 (ipykernel)",
   "language": "python",
   "name": "python3"
  },
  "language_info": {
   "codemirror_mode": {
    "name": "ipython",
    "version": 3
   },
   "file_extension": ".py",
   "mimetype": "text/x-python",
   "name": "python",
   "nbconvert_exporter": "python",
   "pygments_lexer": "ipython3",
   "version": "3.13.3"
  }
 },
 "nbformat": 4,
 "nbformat_minor": 5
}
